{
 "cells": [
  {
   "cell_type": "markdown",
   "metadata": {},
   "source": [
    "# Finding a new shirt on zalando with stretch is annoying…\n",
    "\n",
    "… so I scraped the information I needed.\n",
    "\n",
    "Zalando is rendered using JavaScript, which is why selenium is used to control a headless Browser to render the pages — I think it's using React."
   ]
  },
  {
   "cell_type": "markdown",
   "metadata": {},
   "source": [
    "## Imports and helper functions"
   ]
  },
  {
   "cell_type": "code",
   "execution_count": 1,
   "metadata": {},
   "outputs": [],
   "source": [
    "import requests\n",
    "from bs4 import BeautifulSoup\n",
    "import os\n",
    "import hashlib\n",
    "import re\n",
    "from time import sleep\n",
    "from collections import deque\n",
    "from tqdm import tqdm"
   ]
  },
  {
   "cell_type": "code",
   "execution_count": 79,
   "metadata": {},
   "outputs": [],
   "source": [
    "import pandas as pd\n",
    "import numpy as np\n",
    "from sklearn import linear_model, svm, tree, ensemble, model_selection, metrics\n",
    "from lmfit import fit_report, models\n",
    "import matplotlib as mpl\n",
    "import matplotlib.pyplot as plt\n",
    "%matplotlib inline\n",
    "import seaborn as sns\n",
    "sns.set() \n",
    "mpl.rcParams['figure.figsize'] = [10, 6]\n",
    "mpl.rcParams['font.size'] = 14.0\n",
    "mpl.rcParams['text.usetex'] = False"
   ]
  },
  {
   "cell_type": "code",
   "execution_count": 3,
   "metadata": {},
   "outputs": [],
   "source": [
    "from selenium.webdriver import Firefox\n",
    "from selenium.webdriver.common.by import By\n",
    "from selenium.webdriver.common.keys import Keys\n",
    "from selenium.webdriver.firefox.options import Options\n",
    "from selenium.webdriver.support import expected_conditions as expected\n",
    "from selenium.webdriver.support.wait import WebDriverWait\n",
    "from selenium.common import exceptions as selexc"
   ]
  },
  {
   "cell_type": "code",
   "execution_count": 5,
   "metadata": {
    "hide_input": false
   },
   "outputs": [],
   "source": [
    "%config InlineBackend.figure_format = 'retina'"
   ]
  },
  {
   "cell_type": "code",
   "execution_count": 4,
   "metadata": {},
   "outputs": [],
   "source": [
    "from pygments import highlight\n",
    "from pygments.lexers import XmlLexer\n",
    "from pygments.formatters import HtmlFormatter\n",
    "import IPython\n",
    "\n",
    "\n",
    "def hdisp(soup):\n",
    "    \"\"\"\n",
    "    Given a soup, display it with color highlighting.\n",
    "    \"\"\"\n",
    "    formatter = HtmlFormatter()\n",
    "    prettified = soup.prettify()\n",
    "    IPython.display.display(\n",
    "        HTML('<style type=\"text/css\">{}</style>    {}'.format(\n",
    "            formatter.get_style_defs('.highlight'),\n",
    "            highlight(prettified, XmlLexer(), formatter))))"
   ]
  },
  {
   "cell_type": "markdown",
   "metadata": {},
   "source": [
    "Limit the spae using the filtering available from Zalando"
   ]
  },
  {
   "cell_type": "code",
   "execution_count": null,
   "metadata": {},
   "outputs": [],
   "source": [
    "baseurl = \"https://www.zalando.dk/herretoej-skjorter/_bla.gra.hvid.sort_stoerrelse-M/?occasion=business&upper_material=bomuld.uld\""
   ]
  },
  {
   "cell_type": "markdown",
   "metadata": {},
   "source": [
    "Path of the (headless) browser binary, get it [here](https://github.com/mozilla/geckodriver/releases)."
   ]
  },
  {
   "cell_type": "code",
   "execution_count": 6,
   "metadata": {},
   "outputs": [
    {
     "data": {
      "text/plain": [
       "'/Users/allan/bin/geckodriver'"
      ]
     },
     "execution_count": 6,
     "metadata": {},
     "output_type": "execute_result"
    }
   ],
   "source": [
    "geckodriver = '/Users/allan/bin/geckodriver'\n",
    "geckodriver"
   ]
  },
  {
   "cell_type": "markdown",
   "metadata": {},
   "source": [
    "Configure the browser"
   ]
  },
  {
   "cell_type": "code",
   "execution_count": 7,
   "metadata": {},
   "outputs": [],
   "source": [
    "options = Options()\n",
    "options.add_argument('-headless')\n",
    "driver = Firefox(executable_path=geckodriver, options=options)\n",
    "wait = WebDriverWait(driver, timeout=30)"
   ]
  },
  {
   "cell_type": "markdown",
   "metadata": {},
   "source": [
    "## Scrape the shirt data\n",
    "\n",
    "Start by getting the links from the listings of shirts"
   ]
  },
  {
   "cell_type": "code",
   "execution_count": 8,
   "metadata": {},
   "outputs": [
    {
     "name": "stdout",
     "output_type": "stream",
     "text": [
      "processing page 1 \n",
      " dde19921030f16dfcca749d543b4e12c785771ed \n",
      "\n",
      "processing page 2 \n",
      " 5729d0c14dc901c7824b512cdcf5c89c698835f9 \n",
      "\n",
      "processing page 3 \n",
      " 4b1ca45a13585a009e1f260b5cca8521e407be49 \n",
      "\n",
      "processing page 4 \n",
      " f69308299c8ccee4d96ef1cf1637ce6e9c006727 \n",
      "\n",
      "processing page 5 \n",
      " 041a35d10e4a64e10cb690c6d4ff3114af41aa1f \n",
      "\n",
      "processing page 6 \n",
      " fc1123722bdc97a42f97c780ae986279396d745a \n",
      "\n",
      "processing page 7 \n",
      " 02b3b44feeb5f62bcf0cd05e13fdc59cb3355bba \n",
      "\n",
      "processing page 8 \n",
      " f883c31e65b642bf2e61fc9aef55462552825478 \n",
      "\n",
      "processing page 9 \n",
      " a2a38e603cc932e9cc2690eb107a7461ed171336 \n",
      "\n"
     ]
    }
   ],
   "source": [
    "# shirt_set = set()\n",
    "shirt_lst = deque()\n",
    "driver.get(baseurl)\n",
    "for i in range(1, 999):\n",
    "    print(\"processing page\", i, '\\n',\n",
    "          hashlib.sha1(driver.page_source.encode('utf-8')).hexdigest(), '\\n')\n",
    "    s0 = BeautifulSoup(driver.page_source, 'lxml')\n",
    "    s1 = s0.find_all(\n",
    "        'z-grid-item', attrs={'class': re.compile(r\"cat_articleCard\")})\n",
    "    for el in s1:\n",
    "        shirt_lst.append('https://www.zalando.dk' + el.find('a')['href'])\n",
    "    try:\n",
    "        driver.find_element_by_css_selector(\n",
    "            'a.cat_link-8qswi:nth-child(3)').click()\n",
    "    except selexc.ElementClickInterceptedException:\n",
    "        break"
   ]
  },
  {
   "cell_type": "markdown",
   "metadata": {},
   "source": [
    "Get the shirt data, but inserts random delays to avoid throttling."
   ]
  },
  {
   "cell_type": "code",
   "execution_count": 10,
   "metadata": {},
   "outputs": [
    {
     "name": "stderr",
     "output_type": "stream",
     "text": [
      "100%|█████████▉| 710/711 [30:42<00:02,  2.76s/it]"
     ]
    }
   ],
   "source": [
    "wait_times = np.abs(np.random.randn(len(shirt_lst)) + 0.8)\n",
    "dct = dict()\n",
    "for pg, wt, i in zip(shirt_lst, wait_times, tqdm(range(len(shirt_lst)))):\n",
    "    sleep(wt)\n",
    "    driver.get(pg)\n",
    "    s0 = BeautifulSoup(driver.page_source, 'lxml')\n",
    "    s1 = s0.find('div', class_='h-container h-m-top-xl h-align-left')\n",
    "    material = s1.find(\n",
    "        'span', attrs={\n",
    "            'as': 'span',\n",
    "            'class': 'h-text h-color-black body'\n",
    "        }).text\n",
    "    s1 = s0.find(\n",
    "        'div', attrs={'class': re.compile('h-container h-product-title')})\n",
    "    brand = s1.find('a', attrs={'as': 'button'})['title']\n",
    "\n",
    "    s1 = s0.find(\n",
    "        'div', attrs={\n",
    "            'class': re.compile(r'h-product-price')\n",
    "        }).find('div')\n",
    "    rx = re.search(r'([\\d.]+)', s1.text)\n",
    "    if rx:\n",
    "        price = float(rx.groups()[0])\n",
    "    else:\n",
    "        price = np.NaN\n",
    "    dct[pg] = {'material': material, 'price': price, 'brand': brand}"
   ]
  },
  {
   "cell_type": "markdown",
   "metadata": {},
   "source": [
    "Quit the headless browser, since we don't need it anymore"
   ]
  },
  {
   "cell_type": "code",
   "execution_count": 87,
   "metadata": {},
   "outputs": [],
   "source": [
    "driver.quit() "
   ]
  },
  {
   "cell_type": "markdown",
   "metadata": {},
   "source": [
    "## Do the data munging…"
   ]
  },
  {
   "cell_type": "code",
   "execution_count": null,
   "metadata": {},
   "outputs": [],
   "source": [
    "df = pd.DataFrame(dct).T.reset_index()\n",
    "df = df.rename(columns={'index': 'url'})\n",
    "df.head()"
   ]
  },
  {
   "cell_type": "code",
   "execution_count": null,
   "metadata": {},
   "outputs": [],
   "source": [
    "def series_extractor(s):\n",
    "    \"\"\"\n",
    "    Extract material composition, yielding a pd.Series of materials used, along with their percentage.\n",
    "    \"\"\"\n",
    "    rx = re.compile(r'(?P<pct>\\d+)% (?P<mat>\\w+)')\n",
    "    search = [rx.search(el) for el in s.split(', ')]\n",
    "    ret = dict()\n",
    "    for el in search:\n",
    "        if el:\n",
    "            dct = el.groupdict()\n",
    "            ret[dct['mat']] = float(dct['pct'])\n",
    "    return pd.Series(ret)\n",
    "\n",
    "\n",
    "mat = pd.DataFrame(df.material.apply(series_extractor)).fillna(0) \n",
    "mat.head() "
   ]
  },
  {
   "cell_type": "code",
   "execution_count": null,
   "metadata": {},
   "outputs": [],
   "source": [
    "df = df.join(mat).drop('material', axis='columns')\n",
    "df.head() "
   ]
  },
  {
   "cell_type": "markdown",
   "metadata": {},
   "source": [
    "Read data from previously saved result, if relevant"
   ]
  },
  {
   "cell_type": "code",
   "execution_count": 86,
   "metadata": {},
   "outputs": [],
   "source": [
    "# df = pd.read_json('skjorter.json')  "
   ]
  },
  {
   "cell_type": "code",
   "execution_count": 88,
   "metadata": {},
   "outputs": [
    {
     "data": {
      "text/plain": [
       "<matplotlib.axes._subplots.AxesSubplot at 0x1a2bdd1cf8>"
      ]
     },
     "execution_count": 88,
     "metadata": {},
     "output_type": "execute_result"
    },
    {
     "data": {
      "image/png": "[encoded data removed]",
      "text/plain": [
       "<Figure size 720x432 with 1 Axes>"
      ]
     },
     "metadata": {
      "image/png": {
       "height": 363,
       "width": 612
      }
     },
     "output_type": "display_data"
    }
   ],
   "source": [
    "df.price.plot.hist(35)"
   ]
  },
  {
   "cell_type": "markdown",
   "metadata": {},
   "source": [
    "Combine the different \"elasto-fabrics\" into one material (one Series)"
   ]
  },
  {
   "cell_type": "code",
   "execution_count": 89,
   "metadata": {},
   "outputs": [
    {
     "data": {
      "text/html": [
       "<div>\n",
       "<style scoped>\n",
       "    .dataframe tbody tr th:only-of-type {\n",
       "        vertical-align: middle;\n",
       "    }\n",
       "\n",
       "    .dataframe tbody tr th {\n",
       "        vertical-align: top;\n",
       "    }\n",
       "\n",
       "    .dataframe thead th {\n",
       "        text-align: right;\n",
       "    }\n",
       "</style>\n",
       "<table border=\"1\" class=\"dataframe\">\n",
       "  <thead>\n",
       "    <tr style=\"text-align: right;\">\n",
       "      <th></th>\n",
       "      <th>url</th>\n",
       "      <th>brand</th>\n",
       "      <th>price</th>\n",
       "      <th>bomuld</th>\n",
       "      <th>polyamid</th>\n",
       "      <th>polyester</th>\n",
       "      <th>uld</th>\n",
       "      <th>elastomer</th>\n",
       "    </tr>\n",
       "  </thead>\n",
       "  <tbody>\n",
       "    <tr>\n",
       "      <th>0</th>\n",
       "      <td>https://www.zalando.dk/pier-one-business-skjor...</td>\n",
       "      <td>Pier One</td>\n",
       "      <td>229</td>\n",
       "      <td>100</td>\n",
       "      <td>0</td>\n",
       "      <td>0</td>\n",
       "      <td>0</td>\n",
       "      <td>0</td>\n",
       "    </tr>\n",
       "    <tr>\n",
       "      <th>1</th>\n",
       "      <td>https://www.zalando.dk/tommy-hilfiger-tailored...</td>\n",
       "      <td>Tommy Hilfiger Tailored</td>\n",
       "      <td>549</td>\n",
       "      <td>98</td>\n",
       "      <td>0</td>\n",
       "      <td>0</td>\n",
       "      <td>0</td>\n",
       "      <td>2</td>\n",
       "    </tr>\n",
       "    <tr>\n",
       "      <th>10</th>\n",
       "      <td>https://www.zalando.dk/selected-homme-shdonene...</td>\n",
       "      <td>Selected Homme</td>\n",
       "      <td>299</td>\n",
       "      <td>100</td>\n",
       "      <td>0</td>\n",
       "      <td>0</td>\n",
       "      <td>0</td>\n",
       "      <td>0</td>\n",
       "    </tr>\n",
       "    <tr>\n",
       "      <th>100</th>\n",
       "      <td>https://www.zalando.dk/massimo-dutti-slim-fit-...</td>\n",
       "      <td>Massimo Dutti</td>\n",
       "      <td>649</td>\n",
       "      <td>100</td>\n",
       "      <td>0</td>\n",
       "      <td>0</td>\n",
       "      <td>0</td>\n",
       "      <td>0</td>\n",
       "    </tr>\n",
       "    <tr>\n",
       "      <th>101</th>\n",
       "      <td>https://www.zalando.dk/selected-homme-slhslims...</td>\n",
       "      <td>Selected Homme</td>\n",
       "      <td>399</td>\n",
       "      <td>100</td>\n",
       "      <td>0</td>\n",
       "      <td>0</td>\n",
       "      <td>0</td>\n",
       "      <td>0</td>\n",
       "    </tr>\n",
       "  </tbody>\n",
       "</table>\n",
       "</div>"
      ],
      "text/plain": [
       "                                                   url  \\\n",
       "0    https://www.zalando.dk/pier-one-business-skjor...   \n",
       "1    https://www.zalando.dk/tommy-hilfiger-tailored...   \n",
       "10   https://www.zalando.dk/selected-homme-shdonene...   \n",
       "100  https://www.zalando.dk/massimo-dutti-slim-fit-...   \n",
       "101  https://www.zalando.dk/selected-homme-slhslims...   \n",
       "\n",
       "                       brand  price  bomuld  polyamid  polyester  uld  \\\n",
       "0                   Pier One    229     100         0          0    0   \n",
       "1    Tommy Hilfiger Tailored    549      98         0          0    0   \n",
       "10            Selected Homme    299     100         0          0    0   \n",
       "100            Massimo Dutti    649     100         0          0    0   \n",
       "101           Selected Homme    399     100         0          0    0   \n",
       "\n",
       "     elastomer  \n",
       "0            0  \n",
       "1            2  \n",
       "10           0  \n",
       "100          0  \n",
       "101          0  "
      ]
     },
     "execution_count": 89,
     "metadata": {},
     "output_type": "execute_result"
    }
   ],
   "source": [
    "df['elastomer'] = df.filter(regex='elas.+').sum(axis=1)\n",
    "df = df.drop(['elasthan', 'elastolefin', 'elastodien'], axis=1) \n",
    "df.head() "
   ]
  },
  {
   "cell_type": "code",
   "execution_count": 90,
   "metadata": {},
   "outputs": [],
   "source": [
    "de = df.loc[df.elastomer > 0]"
   ]
  },
  {
   "cell_type": "code",
   "execution_count": 91,
   "metadata": {},
   "outputs": [
    {
     "data": {
      "text/plain": [
       "(190, 8)"
      ]
     },
     "execution_count": 91,
     "metadata": {},
     "output_type": "execute_result"
    }
   ],
   "source": [
    "de.shape"
   ]
  },
  {
   "cell_type": "code",
   "execution_count": 92,
   "metadata": {},
   "outputs": [],
   "source": [
    "de = de.sort_values('elastomer', ascending=False).reset_index()\n",
    "de = de[de.price > 1]"
   ]
  },
  {
   "cell_type": "code",
   "execution_count": 93,
   "metadata": {},
   "outputs": [],
   "source": [
    "x, y = de.loc[:, ['price', 'elastomer']].values.T"
   ]
  },
  {
   "cell_type": "code",
   "execution_count": 95,
   "metadata": {},
   "outputs": [
    {
     "data": {
      "text/plain": [
       "[<matplotlib.lines.Line2D at 0x1a2bb5e828>]"
      ]
     },
     "execution_count": 95,
     "metadata": {},
     "output_type": "execute_result"
    },
    {
     "data": {
      "image/png": "[encoded data removed]",
      "text/plain": [
       "<Figure size 720x432 with 1 Axes>"
      ]
     },
     "metadata": {
      "image/png": {
       "height": 363,
       "width": 600
      }
     },
     "output_type": "display_data"
    }
   ],
   "source": [
    "plt.plot(x, y, 'o')"
   ]
  },
  {
   "cell_type": "code",
   "execution_count": 101,
   "metadata": {
    "scrolled": false
   },
   "outputs": [
    {
     "name": "stdout",
     "output_type": "stream",
     "text": [
      "https://www.zalando.dk/mango-slim-fit-business-skjorter-m9122d1a5-q11.html?size=M\n",
      "https://www.zalando.dk/drykorn-skjorter-white-dr222d003-a11.html?size=M\n",
      "https://www.zalando.dk/celio-masantal1-business-skjorter-cf522d01n-q11.html?size=M\n",
      "https://www.zalando.dk/drykorn-maris-business-skjorter-dr222d003-k11.html?size=M\n",
      "https://www.zalando.dk/celio-masantal-business-skjorter-cf522d01n-q12.html?size=M\n",
      "https://www.zalando.dk/sisley-slim-fit-business-skjorter-7si22d02f-q11.html?size=M\n",
      "https://www.zalando.dk/benetton-business-skjorter-white-4be22d03f-a11.html?size=M\n",
      "https://www.zalando.dk/celio-masantal1-business-skjorter-cf522d01n-k11.html?size=M\n",
      "https://www.zalando.dk/celio-masantal1-business-skjorter-navy-cf522d01n-k12.html?size=M\n",
      "https://www.zalando.dk/celio-masantal-business-skjorter-cf522d01n-a11.html?size=M\n"
     ]
    }
   ],
   "source": [
    "for url in de[(de.price < 550) & (de.elastomer >= 4)].url:\n",
    "    print(url) "
   ]
  },
  {
   "cell_type": "markdown",
   "metadata": {},
   "source": [
    "Which brands use elastomeres the most?"
   ]
  },
  {
   "cell_type": "code",
   "execution_count": 123,
   "metadata": {
    "scrolled": false
   },
   "outputs": [
    {
     "data": {
      "text/html": [
       "<style  type=\"text/css\" >\n",
       "    #T_ffa5b788_387e_11e9_9399_784f437e8142row0_col0 {\n",
       "            background-color:  #d9f8d9;\n",
       "        }    #T_ffa5b788_387e_11e9_9399_784f437e8142row1_col0 {\n",
       "            background-color:  #e5ffe5;\n",
       "        }    #T_ffa5b788_387e_11e9_9399_784f437e8142row2_col0 {\n",
       "            background-color:  #e5ffe5;\n",
       "        }    #T_ffa5b788_387e_11e9_9399_784f437e8142row3_col0 {\n",
       "            background-color:  #e5ffe5;\n",
       "        }    #T_ffa5b788_387e_11e9_9399_784f437e8142row4_col0 {\n",
       "            background-color:  #cbf1cb;\n",
       "        }    #T_ffa5b788_387e_11e9_9399_784f437e8142row5_col0 {\n",
       "            background-color:  #a4dba4;\n",
       "        }    #T_ffa5b788_387e_11e9_9399_784f437e8142row6_col0 {\n",
       "            background-color:  #dffcdf;\n",
       "        }    #T_ffa5b788_387e_11e9_9399_784f437e8142row7_col0 {\n",
       "            background-color:  #dffcdf;\n",
       "        }    #T_ffa5b788_387e_11e9_9399_784f437e8142row8_col0 {\n",
       "            background-color:  #dffcdf;\n",
       "        }    #T_ffa5b788_387e_11e9_9399_784f437e8142row9_col0 {\n",
       "            background-color:  #dffcdf;\n",
       "        }    #T_ffa5b788_387e_11e9_9399_784f437e8142row10_col0 {\n",
       "            background-color:  #97d497;\n",
       "        }    #T_ffa5b788_387e_11e9_9399_784f437e8142row11_col0 {\n",
       "            background-color:  #d9f8d9;\n",
       "        }    #T_ffa5b788_387e_11e9_9399_784f437e8142row12_col0 {\n",
       "            background-color:  #dffcdf;\n",
       "        }    #T_ffa5b788_387e_11e9_9399_784f437e8142row13_col0 {\n",
       "            background-color:  #e5ffe5;\n",
       "        }    #T_ffa5b788_387e_11e9_9399_784f437e8142row14_col0 {\n",
       "            background-color:  #d9f8d9;\n",
       "        }    #T_ffa5b788_387e_11e9_9399_784f437e8142row15_col0 {\n",
       "            background-color:  #c5edc5;\n",
       "        }    #T_ffa5b788_387e_11e9_9399_784f437e8142row16_col0 {\n",
       "            background-color:  #e5ffe5;\n",
       "        }    #T_ffa5b788_387e_11e9_9399_784f437e8142row17_col0 {\n",
       "            background-color:  #cbf1cb;\n",
       "        }    #T_ffa5b788_387e_11e9_9399_784f437e8142row18_col0 {\n",
       "            background-color:  #cbf1cb;\n",
       "        }    #T_ffa5b788_387e_11e9_9399_784f437e8142row19_col0 {\n",
       "            background-color:  #e5ffe5;\n",
       "        }    #T_ffa5b788_387e_11e9_9399_784f437e8142row20_col0 {\n",
       "            background-color:  #d3f5d3;\n",
       "        }    #T_ffa5b788_387e_11e9_9399_784f437e8142row21_col0 {\n",
       "            background-color:  #e5ffe5;\n",
       "        }    #T_ffa5b788_387e_11e9_9399_784f437e8142row22_col0 {\n",
       "            background-color:  #dffcdf;\n",
       "        }    #T_ffa5b788_387e_11e9_9399_784f437e8142row23_col0 {\n",
       "            background-color:  #008000;\n",
       "        }    #T_ffa5b788_387e_11e9_9399_784f437e8142row24_col0 {\n",
       "            background-color:  #dffcdf;\n",
       "        }    #T_ffa5b788_387e_11e9_9399_784f437e8142row25_col0 {\n",
       "            background-color:  #42a442;\n",
       "        }    #T_ffa5b788_387e_11e9_9399_784f437e8142row26_col0 {\n",
       "            background-color:  #d9f8d9;\n",
       "        }    #T_ffa5b788_387e_11e9_9399_784f437e8142row27_col0 {\n",
       "            background-color:  #e5ffe5;\n",
       "        }    #T_ffa5b788_387e_11e9_9399_784f437e8142row28_col0 {\n",
       "            background-color:  #e5ffe5;\n",
       "        }    #T_ffa5b788_387e_11e9_9399_784f437e8142row29_col0 {\n",
       "            background-color:  #e5ffe5;\n",
       "        }    #T_ffa5b788_387e_11e9_9399_784f437e8142row30_col0 {\n",
       "            background-color:  #69ba69;\n",
       "        }    #T_ffa5b788_387e_11e9_9399_784f437e8142row31_col0 {\n",
       "            background-color:  #e5ffe5;\n",
       "        }    #T_ffa5b788_387e_11e9_9399_784f437e8142row32_col0 {\n",
       "            background-color:  #e5ffe5;\n",
       "        }    #T_ffa5b788_387e_11e9_9399_784f437e8142row33_col0 {\n",
       "            background-color:  #e5ffe5;\n",
       "        }    #T_ffa5b788_387e_11e9_9399_784f437e8142row34_col0 {\n",
       "            background-color:  #8acc8a;\n",
       "        }</style>  \n",
       "<table id=\"T_ffa5b788_387e_11e9_9399_784f437e8142\" > \n",
       "<thead>    <tr> \n",
       "        <th class=\"blank\" ></th> \n",
       "        <th class=\"blank level0\" ></th> \n",
       "        <th class=\"col_heading level0 col0\" >elastomer</th> \n",
       "    </tr>    <tr> \n",
       "        <th class=\"index_name level0\" >brand</th> \n",
       "        <th class=\"index_name level1\" >elastomer</th> \n",
       "        <th class=\"blank\" ></th> \n",
       "    </tr></thead> \n",
       "<tbody>    <tr> \n",
       "        <th id=\"T_ffa5b788_387e_11e9_9399_784f437e8142level0_row0\" class=\"row_heading level0 row0\" >Armani Exchange</th> \n",
       "        <th id=\"T_ffa5b788_387e_11e9_9399_784f437e8142level1_row0\" class=\"row_heading level1 row0\" >3</th> \n",
       "        <td id=\"T_ffa5b788_387e_11e9_9399_784f437e8142row0_col0\" class=\"data row0 col0\" >3</td> \n",
       "    </tr>    <tr> \n",
       "        <th id=\"T_ffa5b788_387e_11e9_9399_784f437e8142level0_row1\" class=\"row_heading level0 row1\" >BOSS ATHLEISURE</th> \n",
       "        <th id=\"T_ffa5b788_387e_11e9_9399_784f437e8142level1_row1\" class=\"row_heading level1 row1\" >2</th> \n",
       "        <td id=\"T_ffa5b788_387e_11e9_9399_784f437e8142row1_col0\" class=\"data row1 col0\" >1</td> \n",
       "    </tr>    <tr> \n",
       "        <th id=\"T_ffa5b788_387e_11e9_9399_784f437e8142level0_row2\" class=\"row_heading level0 row2\" >Benetton</th> \n",
       "        <th id=\"T_ffa5b788_387e_11e9_9399_784f437e8142level1_row2\" class=\"row_heading level1 row2\" >4</th> \n",
       "        <td id=\"T_ffa5b788_387e_11e9_9399_784f437e8142row2_col0\" class=\"data row2 col0\" >1</td> \n",
       "    </tr>    <tr> \n",
       "        <th id=\"T_ffa5b788_387e_11e9_9399_784f437e8142level0_row3\" class=\"row_heading level0 row3\" >CC COLLECTION CORNELIANI</th> \n",
       "        <th id=\"T_ffa5b788_387e_11e9_9399_784f437e8142level1_row3\" class=\"row_heading level1 row3\" >3</th> \n",
       "        <td id=\"T_ffa5b788_387e_11e9_9399_784f437e8142row3_col0\" class=\"data row3 col0\" >1</td> \n",
       "    </tr>    <tr> \n",
       "        <th id=\"T_ffa5b788_387e_11e9_9399_784f437e8142level0_row4\" class=\"row_heading level0 row4\" >CELIO</th> \n",
       "        <th id=\"T_ffa5b788_387e_11e9_9399_784f437e8142level1_row4\" class=\"row_heading level1 row4\" >4</th> \n",
       "        <td id=\"T_ffa5b788_387e_11e9_9399_784f437e8142row4_col0\" class=\"data row4 col0\" >5</td> \n",
       "    </tr>    <tr> \n",
       "        <th id=\"T_ffa5b788_387e_11e9_9399_784f437e8142level0_row5\" class=\"row_heading level0 row5\" >Calvin Klein Tailored</th> \n",
       "        <th id=\"T_ffa5b788_387e_11e9_9399_784f437e8142level1_row5\" class=\"row_heading level1 row5\" >2</th> \n",
       "        <td id=\"T_ffa5b788_387e_11e9_9399_784f437e8142row5_col0\" class=\"data row5 col0\" >11</td> \n",
       "    </tr>    <tr> \n",
       "        <th id=\"T_ffa5b788_387e_11e9_9399_784f437e8142level0_row6\" class=\"row_heading level0 row6\" >Casual Friday</th> \n",
       "        <th id=\"T_ffa5b788_387e_11e9_9399_784f437e8142level1_row6\" class=\"row_heading level1 row6\" >3</th> \n",
       "        <td id=\"T_ffa5b788_387e_11e9_9399_784f437e8142row6_col0\" class=\"data row6 col0\" >2</td> \n",
       "    </tr>    <tr> \n",
       "        <th id=\"T_ffa5b788_387e_11e9_9399_784f437e8142level0_row7\" class=\"row_heading level0 row7\" rowspan=2>DRYKORN</th> \n",
       "        <th id=\"T_ffa5b788_387e_11e9_9399_784f437e8142level1_row7\" class=\"row_heading level1 row7\" >4</th> \n",
       "        <td id=\"T_ffa5b788_387e_11e9_9399_784f437e8142row7_col0\" class=\"data row7 col0\" >2</td> \n",
       "    </tr>    <tr> \n",
       "        <th id=\"T_ffa5b788_387e_11e9_9399_784f437e8142level1_row8\" class=\"row_heading level1 row8\" >5</th> \n",
       "        <td id=\"T_ffa5b788_387e_11e9_9399_784f437e8142row8_col0\" class=\"data row8 col0\" >2</td> \n",
       "    </tr>    <tr> \n",
       "        <th id=\"T_ffa5b788_387e_11e9_9399_784f437e8142level0_row9\" class=\"row_heading level0 row9\" >Esprit</th> \n",
       "        <th id=\"T_ffa5b788_387e_11e9_9399_784f437e8142level1_row9\" class=\"row_heading level1 row9\" >3</th> \n",
       "        <td id=\"T_ffa5b788_387e_11e9_9399_784f437e8142row9_col0\" class=\"data row9 col0\" >2</td> \n",
       "    </tr>    <tr> \n",
       "        <th id=\"T_ffa5b788_387e_11e9_9399_784f437e8142level0_row10\" class=\"row_heading level0 row10\" rowspan=2>Eterna</th> \n",
       "        <th id=\"T_ffa5b788_387e_11e9_9399_784f437e8142level1_row10\" class=\"row_heading level1 row10\" >3</th> \n",
       "        <td id=\"T_ffa5b788_387e_11e9_9399_784f437e8142row10_col0\" class=\"data row10 col0\" >13</td> \n",
       "    </tr>    <tr> \n",
       "        <th id=\"T_ffa5b788_387e_11e9_9399_784f437e8142level1_row11\" class=\"row_heading level1 row11\" >2</th> \n",
       "        <td id=\"T_ffa5b788_387e_11e9_9399_784f437e8142row11_col0\" class=\"data row11 col0\" >3</td> \n",
       "    </tr>    <tr> \n",
       "        <th id=\"T_ffa5b788_387e_11e9_9399_784f437e8142level0_row12\" class=\"row_heading level0 row12\" rowspan=2>Farah Tailoring</th> \n",
       "        <th id=\"T_ffa5b788_387e_11e9_9399_784f437e8142level1_row12\" class=\"row_heading level1 row12\" >2</th> \n",
       "        <td id=\"T_ffa5b788_387e_11e9_9399_784f437e8142row12_col0\" class=\"data row12 col0\" >2</td> \n",
       "    </tr>    <tr> \n",
       "        <th id=\"T_ffa5b788_387e_11e9_9399_784f437e8142level1_row13\" class=\"row_heading level1 row13\" >1</th> \n",
       "        <td id=\"T_ffa5b788_387e_11e9_9399_784f437e8142row13_col0\" class=\"data row13 col0\" >1</td> \n",
       "    </tr>    <tr> \n",
       "        <th id=\"T_ffa5b788_387e_11e9_9399_784f437e8142level0_row14\" class=\"row_heading level0 row14\" >Filippa K</th> \n",
       "        <th id=\"T_ffa5b788_387e_11e9_9399_784f437e8142level1_row14\" class=\"row_heading level1 row14\" >4</th> \n",
       "        <td id=\"T_ffa5b788_387e_11e9_9399_784f437e8142row14_col0\" class=\"data row14 col0\" >3</td> \n",
       "    </tr>    <tr> \n",
       "        <th id=\"T_ffa5b788_387e_11e9_9399_784f437e8142level0_row15\" class=\"row_heading level0 row15\" >HUGO</th> \n",
       "        <th id=\"T_ffa5b788_387e_11e9_9399_784f437e8142level1_row15\" class=\"row_heading level1 row15\" >5</th> \n",
       "        <td id=\"T_ffa5b788_387e_11e9_9399_784f437e8142row15_col0\" class=\"data row15 col0\" >6</td> \n",
       "    </tr>    <tr> \n",
       "        <th id=\"T_ffa5b788_387e_11e9_9399_784f437e8142level0_row16\" class=\"row_heading level0 row16\" >J.LINDEBERG</th> \n",
       "        <th id=\"T_ffa5b788_387e_11e9_9399_784f437e8142level1_row16\" class=\"row_heading level1 row16\" >4</th> \n",
       "        <td id=\"T_ffa5b788_387e_11e9_9399_784f437e8142row16_col0\" class=\"data row16 col0\" >1</td> \n",
       "    </tr>    <tr> \n",
       "        <th id=\"T_ffa5b788_387e_11e9_9399_784f437e8142level0_row17\" class=\"row_heading level0 row17\" >JOOP!</th> \n",
       "        <th id=\"T_ffa5b788_387e_11e9_9399_784f437e8142level1_row17\" class=\"row_heading level1 row17\" >3</th> \n",
       "        <td id=\"T_ffa5b788_387e_11e9_9399_784f437e8142row17_col0\" class=\"data row17 col0\" >5</td> \n",
       "    </tr>    <tr> \n",
       "        <th id=\"T_ffa5b788_387e_11e9_9399_784f437e8142level0_row18\" class=\"row_heading level0 row18\" >Jack & Jones</th> \n",
       "        <th id=\"T_ffa5b788_387e_11e9_9399_784f437e8142level1_row18\" class=\"row_heading level1 row18\" >2</th> \n",
       "        <td id=\"T_ffa5b788_387e_11e9_9399_784f437e8142row18_col0\" class=\"data row18 col0\" >5</td> \n",
       "    </tr>    <tr> \n",
       "        <th id=\"T_ffa5b788_387e_11e9_9399_784f437e8142level0_row19\" class=\"row_heading level0 row19\" >Lab Pal Zileri</th> \n",
       "        <th id=\"T_ffa5b788_387e_11e9_9399_784f437e8142level1_row19\" class=\"row_heading level1 row19\" >3</th> \n",
       "        <td id=\"T_ffa5b788_387e_11e9_9399_784f437e8142row19_col0\" class=\"data row19 col0\" >1</td> \n",
       "    </tr>    <tr> \n",
       "        <th id=\"T_ffa5b788_387e_11e9_9399_784f437e8142level0_row20\" class=\"row_heading level0 row20\" rowspan=2>Mango</th> \n",
       "        <th id=\"T_ffa5b788_387e_11e9_9399_784f437e8142level1_row20\" class=\"row_heading level1 row20\" >3</th> \n",
       "        <td id=\"T_ffa5b788_387e_11e9_9399_784f437e8142row20_col0\" class=\"data row20 col0\" >4</td> \n",
       "    </tr>    <tr> \n",
       "        <th id=\"T_ffa5b788_387e_11e9_9399_784f437e8142level1_row21\" class=\"row_heading level1 row21\" >5</th> \n",
       "        <td id=\"T_ffa5b788_387e_11e9_9399_784f437e8142row21_col0\" class=\"data row21 col0\" >1</td> \n",
       "    </tr>    <tr> \n",
       "        <th id=\"T_ffa5b788_387e_11e9_9399_784f437e8142level0_row22\" class=\"row_heading level0 row22\" >Massimo Dutti</th> \n",
       "        <th id=\"T_ffa5b788_387e_11e9_9399_784f437e8142level1_row22\" class=\"row_heading level1 row22\" >2</th> \n",
       "        <td id=\"T_ffa5b788_387e_11e9_9399_784f437e8142row22_col0\" class=\"data row22 col0\" >2</td> \n",
       "    </tr>    <tr> \n",
       "        <th id=\"T_ffa5b788_387e_11e9_9399_784f437e8142level0_row23\" class=\"row_heading level0 row23\" >OLYMP Level Five</th> \n",
       "        <th id=\"T_ffa5b788_387e_11e9_9399_784f437e8142level1_row23\" class=\"row_heading level1 row23\" >3</th> \n",
       "        <td id=\"T_ffa5b788_387e_11e9_9399_784f437e8142row23_col0\" class=\"data row23 col0\" >36</td> \n",
       "    </tr>    <tr> \n",
       "        <th id=\"T_ffa5b788_387e_11e9_9399_784f437e8142level0_row24\" class=\"row_heading level0 row24\" >OLYMP Luxor</th> \n",
       "        <th id=\"T_ffa5b788_387e_11e9_9399_784f437e8142level1_row24\" class=\"row_heading level1 row24\" >3</th> \n",
       "        <td id=\"T_ffa5b788_387e_11e9_9399_784f437e8142row24_col0\" class=\"data row24 col0\" >2</td> \n",
       "    </tr>    <tr> \n",
       "        <th id=\"T_ffa5b788_387e_11e9_9399_784f437e8142level0_row25\" class=\"row_heading level0 row25\" >OLYMP No. Six</th> \n",
       "        <th id=\"T_ffa5b788_387e_11e9_9399_784f437e8142level1_row25\" class=\"row_heading level1 row25\" >3</th> \n",
       "        <td id=\"T_ffa5b788_387e_11e9_9399_784f437e8142row25_col0\" class=\"data row25 col0\" >26</td> \n",
       "    </tr>    <tr> \n",
       "        <th id=\"T_ffa5b788_387e_11e9_9399_784f437e8142level0_row26\" class=\"row_heading level0 row26\" >Selected Homme</th> \n",
       "        <th id=\"T_ffa5b788_387e_11e9_9399_784f437e8142level1_row26\" class=\"row_heading level1 row26\" >2</th> \n",
       "        <td id=\"T_ffa5b788_387e_11e9_9399_784f437e8142row26_col0\" class=\"data row26 col0\" >3</td> \n",
       "    </tr>    <tr> \n",
       "        <th id=\"T_ffa5b788_387e_11e9_9399_784f437e8142level0_row27\" class=\"row_heading level0 row27\" >Sisley</th> \n",
       "        <th id=\"T_ffa5b788_387e_11e9_9399_784f437e8142level1_row27\" class=\"row_heading level1 row27\" >4</th> \n",
       "        <td id=\"T_ffa5b788_387e_11e9_9399_784f437e8142row27_col0\" class=\"data row27 col0\" >1</td> \n",
       "    </tr>    <tr> \n",
       "        <th id=\"T_ffa5b788_387e_11e9_9399_784f437e8142level0_row28\" class=\"row_heading level0 row28\" >Solid</th> \n",
       "        <th id=\"T_ffa5b788_387e_11e9_9399_784f437e8142level1_row28\" class=\"row_heading level1 row28\" >3</th> \n",
       "        <td id=\"T_ffa5b788_387e_11e9_9399_784f437e8142row28_col0\" class=\"data row28 col0\" >1</td> \n",
       "    </tr>    <tr> \n",
       "        <th id=\"T_ffa5b788_387e_11e9_9399_784f437e8142level0_row29\" class=\"row_heading level0 row29\" >TOM TAILOR</th> \n",
       "        <th id=\"T_ffa5b788_387e_11e9_9399_784f437e8142level1_row29\" class=\"row_heading level1 row29\" >2</th> \n",
       "        <td id=\"T_ffa5b788_387e_11e9_9399_784f437e8142row29_col0\" class=\"data row29 col0\" >1</td> \n",
       "    </tr>    <tr> \n",
       "        <th id=\"T_ffa5b788_387e_11e9_9399_784f437e8142level0_row30\" class=\"row_heading level0 row30\" rowspan=3>Tiger of Sweden</th> \n",
       "        <th id=\"T_ffa5b788_387e_11e9_9399_784f437e8142level1_row30\" class=\"row_heading level1 row30\" >4</th> \n",
       "        <td id=\"T_ffa5b788_387e_11e9_9399_784f437e8142row30_col0\" class=\"data row30 col0\" >20</td> \n",
       "    </tr>    <tr> \n",
       "        <th id=\"T_ffa5b788_387e_11e9_9399_784f437e8142level1_row31\" class=\"row_heading level1 row31\" >3</th> \n",
       "        <td id=\"T_ffa5b788_387e_11e9_9399_784f437e8142row31_col0\" class=\"data row31 col0\" >1</td> \n",
       "    </tr>    <tr> \n",
       "        <th id=\"T_ffa5b788_387e_11e9_9399_784f437e8142level1_row32\" class=\"row_heading level1 row32\" >5</th> \n",
       "        <td id=\"T_ffa5b788_387e_11e9_9399_784f437e8142row32_col0\" class=\"data row32 col0\" >1</td> \n",
       "    </tr>    <tr> \n",
       "        <th id=\"T_ffa5b788_387e_11e9_9399_784f437e8142level0_row33\" class=\"row_heading level0 row33\" >Tommy Hilfiger</th> \n",
       "        <th id=\"T_ffa5b788_387e_11e9_9399_784f437e8142level1_row33\" class=\"row_heading level1 row33\" >3</th> \n",
       "        <td id=\"T_ffa5b788_387e_11e9_9399_784f437e8142row33_col0\" class=\"data row33 col0\" >1</td> \n",
       "    </tr>    <tr> \n",
       "        <th id=\"T_ffa5b788_387e_11e9_9399_784f437e8142level0_row34\" class=\"row_heading level0 row34\" >Tommy Hilfiger Tailored</th> \n",
       "        <th id=\"T_ffa5b788_387e_11e9_9399_784f437e8142level1_row34\" class=\"row_heading level1 row34\" >2</th> \n",
       "        <td id=\"T_ffa5b788_387e_11e9_9399_784f437e8142row34_col0\" class=\"data row34 col0\" >15</td> \n",
       "    </tr></tbody> \n",
       "</table> "
      ],
      "text/plain": [
       "<pandas.io.formats.style.Styler at 0x1a2cafb6a0>"
      ]
     },
     "execution_count": 123,
     "metadata": {},
     "output_type": "execute_result"
    }
   ],
   "source": [
    "cm = sns.light_palette(\"green\", as_cmap=True) \n",
    "pd.DataFrame(de.groupby('brand').elastomer.value_counts()).style.background_gradient(cmap=cm)"
   ]
  },
  {
   "cell_type": "code",
   "execution_count": null,
   "metadata": {},
   "outputs": [],
   "source": []
  },
  {
   "cell_type": "code",
   "execution_count": null,
   "metadata": {},
   "outputs": [],
   "source": []
  },
  {
   "cell_type": "code",
   "execution_count": null,
   "metadata": {},
   "outputs": [],
   "source": []
  },
  {
   "cell_type": "code",
   "execution_count": null,
   "metadata": {},
   "outputs": [],
   "source": []
  },
  {
   "cell_type": "code",
   "execution_count": null,
   "metadata": {},
   "outputs": [],
   "source": []
  },
  {
   "cell_type": "code",
   "execution_count": null,
   "metadata": {},
   "outputs": [],
   "source": []
  },
  {
   "cell_type": "code",
   "execution_count": null,
   "metadata": {},
   "outputs": [],
   "source": []
  },
  {
   "cell_type": "code",
   "execution_count": null,
   "metadata": {},
   "outputs": [],
   "source": []
  },
  {
   "cell_type": "code",
   "execution_count": null,
   "metadata": {},
   "outputs": [],
   "source": []
  },
  {
   "cell_type": "code",
   "execution_count": null,
   "metadata": {},
   "outputs": [],
   "source": []
  }
 ],
 "metadata": {
  "kernelspec": {
   "display_name": "Python 3",
   "language": "python",
   "name": "python3"
  },
  "language_info": {
   "codemirror_mode": {
    "name": "ipython",
    "version": 3
   },
   "file_extension": ".py",
   "mimetype": "text/x-python",
   "name": "python",
   "nbconvert_exporter": "python",
   "pygments_lexer": "ipython3",
   "version": "3.7.1"
  },
  "toc": {
   "base_numbering": 1,
   "nav_menu": {},
   "number_sections": true,
   "sideBar": true,
   "skip_h1_title": false,
   "title_cell": "Table of Contents",
   "title_sidebar": "Contents",
   "toc_cell": false,
   "toc_position": {},
   "toc_section_display": true,
   "toc_window_display": false
  },
  "varInspector": {
   "cols": {
    "lenName": 16,
    "lenType": 16,
    "lenVar": 40
   },
   "kernels_config": {
    "python": {
     "delete_cmd_postfix": "",
     "delete_cmd_prefix": "del ",
     "library": "var_list.py",
     "varRefreshCmd": "print(var_dic_list())"
    },
    "r": {
     "delete_cmd_postfix": ") ",
     "delete_cmd_prefix": "rm(",
     "library": "var_list.r",
     "varRefreshCmd": "cat(var_dic_list()) "
    }
   },
   "types_to_exclude": [
    "module",
    "function",
    "builtin_function_or_method",
    "instance",
    "_Feature"
   ],
   "window_display": false
  }
 },
 "nbformat": 4,
 "nbformat_minor": 2
}
